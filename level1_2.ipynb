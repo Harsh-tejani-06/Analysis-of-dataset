{
 "cells": [
  {
   "cell_type": "code",
   "execution_count": 3,
   "id": "25a759f5",
   "metadata": {},
   "outputs": [
    {
     "name": "stdout",
     "output_type": "stream",
     "text": [
      "Mean:\n",
      " Average Cost for two    1199.210763\n",
      "Price range                1.804837\n",
      "Aggregate rating           2.666370\n",
      "dtype: float64\n",
      "\n",
      "Median:\n",
      " Average Cost for two    400.0\n",
      "Price range               2.0\n",
      "Aggregate rating          3.2\n",
      "dtype: float64\n",
      "\n",
      "Standard Deviation:\n",
      " Average Cost for two    16121.183073\n",
      "Price range                 0.905609\n",
      "Aggregate rating            1.516378\n",
      "dtype: float64\n"
     ]
    }
   ],
   "source": [
    "import pandas as pd\n",
    "\n",
    "# Fetching dataset\n",
    "df = pd.read_csv(\"Dataset .csv\") \n",
    "\n",
    "# Mean, median, and std for numerical columns\n",
    "new_df = df[['Average Cost for two', 'Price range', 'Aggregate rating']]  \n",
    "\n",
    "print(\"Mean:\\n\", new_df.mean())\n",
    "print(\"\\nMedian:\\n\", new_df.median())\n",
    "print(\"\\nStandard Deviation:\\n\", new_df.std())\n"
   ]
  },
  {
   "cell_type": "code",
   "execution_count": 15,
   "id": "93a26a76",
   "metadata": {},
   "outputs": [
    {
     "name": "stdout",
     "output_type": "stream",
     "text": [
      "Top Cusines with highest Number of resturants\n",
      "Cuisines    \n",
      "North Indian    936\n",
      "Name: count, dtype: int64\n",
      "\n",
      "Top City with highest Number of resturants\n",
      "City     \n",
      "New Delhi    5473\n",
      "Name: count, dtype: int64\n"
     ]
    }
   ],
   "source": [
    "#identify top cusinies and cities with highest number of restaurants.\n",
    "\n",
    "top_causinies=df[['Cuisines']].value_counts()\n",
    "print(\"Top Cusines with highest Number of resturants\")\n",
    "print(top_causinies.head(1))\n",
    "\n",
    "print()\n",
    "\n",
    "top_city=df[['City']].value_counts()\n",
    "print(\"Top City with highest Number of resturants\")\n",
    "print(top_city.head(1))\n",
    "\n",
    "\n"
   ]
  }
 ],
 "metadata": {
  "kernelspec": {
   "display_name": "venv",
   "language": "python",
   "name": "python3"
  },
  "language_info": {
   "codemirror_mode": {
    "name": "ipython",
    "version": 3
   },
   "file_extension": ".py",
   "mimetype": "text/x-python",
   "name": "python",
   "nbconvert_exporter": "python",
   "pygments_lexer": "ipython3",
   "version": "3.12.4"
  }
 },
 "nbformat": 4,
 "nbformat_minor": 5
}
