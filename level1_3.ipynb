{
 "cells": [
  {
   "cell_type": "code",
   "execution_count": 17,
   "id": "53616e86",
   "metadata": {},
   "outputs": [
    {
     "name": "stdout",
     "output_type": "stream",
     "text": [
      "               City  Aggregate rating\n",
      "88        New Delhi           13347.8\n",
      "50          Gurgaon            2964.3\n",
      "89            Noida            2199.1\n",
      "43        Faridabad             468.6\n",
      "67           London              90.7\n",
      "91          Orlando              89.5\n",
      "110  Rest of Hawaii              88.2\n",
      "124       Tampa Bay              88.2\n",
      "69          Lucknow              88.1\n",
      "51         Guwahati              88.0\n",
      "14        Bangalore              87.5\n",
      "39            Dubai              87.4\n",
      "2         Ahmedabad              87.4\n",
      "26          Chennai              86.3\n",
      "6            Ankara              86.1\n",
      "0         Abu Dhabi              86.0\n",
      "9          Auckland              85.5\n",
      "111  Rio de Janeiro              85.3\n",
      "20            Boise              85.2\n",
      "63          Kolkata              85.1\n"
     ]
    }
   ],
   "source": [
    "import pandas as pd\n",
    "\n",
    "df= pd.read_csv(\"Dataset .csv\")\n",
    "\n",
    "#grouping of Locality and aggregate rating\n",
    "new_df = df.groupby('City')['Aggregate rating'].sum().reset_index()\n",
    "new_df.columns = ['City', 'Aggregate rating']  \n",
    "\n",
    "new_df.sort_values(by='Aggregate rating', ascending=False, inplace=True)\n",
    "print(new_df.head(20))\n",
    "\n"
   ]
  },
  {
   "cell_type": "code",
   "execution_count": null,
   "id": "83df8597",
   "metadata": {},
   "outputs": [],
   "source": []
  }
 ],
 "metadata": {
  "kernelspec": {
   "display_name": "venv",
   "language": "python",
   "name": "python3"
  },
  "language_info": {
   "codemirror_mode": {
    "name": "ipython",
    "version": 3
   },
   "file_extension": ".py",
   "mimetype": "text/x-python",
   "name": "python",
   "nbconvert_exporter": "python",
   "pygments_lexer": "ipython3",
   "version": "3.12.4"
  }
 },
 "nbformat": 4,
 "nbformat_minor": 5
}
